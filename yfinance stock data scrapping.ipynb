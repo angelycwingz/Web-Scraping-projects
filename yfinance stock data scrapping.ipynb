{
 "cells": [
  {
   "cell_type": "markdown",
   "id": "9ef88d35",
   "metadata": {},
   "source": [
    "# Extracting and Analyzing Data from yFinance API"
   ]
  },
  {
   "cell_type": "markdown",
   "id": "4d992c9d",
   "metadata": {},
   "source": [
    "## In this notebook, I'll be downloading stock data of Apple and analyzing its share value over the years."
   ]
  },
  {
   "cell_type": "code",
   "execution_count": 1,
   "id": "76c33b2d",
   "metadata": {},
   "outputs": [
    {
     "name": "stdout",
     "output_type": "stream",
     "text": [
      "Defaulting to user installation because normal site-packages is not writeable\n",
      "Requirement already satisfied: yfinance in c:\\users\\world\\appdata\\roaming\\python\\python310\\site-packages (0.2.18)\n",
      "Requirement already satisfied: pandas>=1.3.0 in c:\\programdata\\anaconda3\\lib\\site-packages (from yfinance) (1.5.3)\n",
      "Requirement already satisfied: appdirs>=1.4.4 in c:\\programdata\\anaconda3\\lib\\site-packages (from yfinance) (1.4.4)\n",
      "Requirement already satisfied: beautifulsoup4>=4.11.1 in c:\\programdata\\anaconda3\\lib\\site-packages (from yfinance) (4.11.1)\n",
      "Requirement already satisfied: cryptography>=3.3.2 in c:\\programdata\\anaconda3\\lib\\site-packages (from yfinance) (39.0.1)\n",
      "Requirement already satisfied: requests>=2.26 in c:\\programdata\\anaconda3\\lib\\site-packages (from yfinance) (2.28.1)\n",
      "Requirement already satisfied: frozendict>=2.3.4 in c:\\users\\world\\appdata\\roaming\\python\\python310\\site-packages (from yfinance) (2.3.8)\n",
      "Requirement already satisfied: pytz>=2022.5 in c:\\programdata\\anaconda3\\lib\\site-packages (from yfinance) (2022.7)\n",
      "Requirement already satisfied: lxml>=4.9.1 in c:\\programdata\\anaconda3\\lib\\site-packages (from yfinance) (4.9.1)\n",
      "Requirement already satisfied: multitasking>=0.0.7 in c:\\users\\world\\appdata\\roaming\\python\\python310\\site-packages (from yfinance) (0.0.11)\n",
      "Requirement already satisfied: html5lib>=1.1 in c:\\users\\world\\appdata\\roaming\\python\\python310\\site-packages (from yfinance) (1.1)\n",
      "Requirement already satisfied: numpy>=1.16.5 in c:\\programdata\\anaconda3\\lib\\site-packages (from yfinance) (1.23.5)\n",
      "Requirement already satisfied: soupsieve>1.2 in c:\\programdata\\anaconda3\\lib\\site-packages (from beautifulsoup4>=4.11.1->yfinance) (2.3.2.post1)\n",
      "Requirement already satisfied: cffi>=1.12 in c:\\programdata\\anaconda3\\lib\\site-packages (from cryptography>=3.3.2->yfinance) (1.15.1)\n",
      "Requirement already satisfied: six>=1.9 in c:\\programdata\\anaconda3\\lib\\site-packages (from html5lib>=1.1->yfinance) (1.16.0)\n",
      "Requirement already satisfied: webencodings in c:\\programdata\\anaconda3\\lib\\site-packages (from html5lib>=1.1->yfinance) (0.5.1)\n",
      "Requirement already satisfied: python-dateutil>=2.8.1 in c:\\programdata\\anaconda3\\lib\\site-packages (from pandas>=1.3.0->yfinance) (2.8.2)\n",
      "Requirement already satisfied: certifi>=2017.4.17 in c:\\programdata\\anaconda3\\lib\\site-packages (from requests>=2.26->yfinance) (2022.12.7)\n",
      "Requirement already satisfied: charset-normalizer<3,>=2 in c:\\programdata\\anaconda3\\lib\\site-packages (from requests>=2.26->yfinance) (2.0.4)\n",
      "Requirement already satisfied: urllib3<1.27,>=1.21.1 in c:\\programdata\\anaconda3\\lib\\site-packages (from requests>=2.26->yfinance) (1.26.14)\n",
      "Requirement already satisfied: idna<4,>=2.5 in c:\\programdata\\anaconda3\\lib\\site-packages (from requests>=2.26->yfinance) (3.4)\n",
      "Requirement already satisfied: pycparser in c:\\programdata\\anaconda3\\lib\\site-packages (from cffi>=1.12->cryptography>=3.3.2->yfinance) (2.21)\n"
     ]
    }
   ],
   "source": [
    "# installing yfinance api\n",
    "!pip install yfinance"
   ]
  },
  {
   "cell_type": "code",
   "execution_count": 2,
   "id": "9738a636",
   "metadata": {},
   "outputs": [],
   "source": [
    "# importing necessary libraries\n",
    "import yfinance as yf\n",
    "import pandas as pd"
   ]
  },
  {
   "cell_type": "code",
   "execution_count": 3,
   "id": "acefcfc3",
   "metadata": {},
   "outputs": [],
   "source": [
    "# creating ticker object of Apple company to extract stock data\n",
    "apple = yf.Ticker(\"AAPL\")"
   ]
  },
  {
   "cell_type": "code",
   "execution_count": 4,
   "id": "54ded11d",
   "metadata": {},
   "outputs": [
    {
     "data": {
      "text/plain": [
       "{'address1': 'One Apple Park Way',\n",
       " 'city': 'Cupertino',\n",
       " 'state': 'CA',\n",
       " 'zip': '95014',\n",
       " 'country': 'United States',\n",
       " 'phone': '408 996 1010',\n",
       " 'website': 'https://www.apple.com',\n",
       " 'industry': 'Consumer Electronics',\n",
       " 'industryDisp': 'Consumer Electronics',\n",
       " 'sector': 'Technology',\n",
       " 'longBusinessSummary': 'Apple Inc. designs, manufactures, and markets smartphones, personal computers, tablets, wearables, and accessories worldwide. The company offers iPhone, a line of smartphones; Mac, a line of personal computers; iPad, a line of multi-purpose tablets; and wearables, home, and accessories comprising AirPods, Apple TV, Apple Watch, Beats products, and HomePod. It also provides AppleCare support and cloud services; and operates various platforms, including the App Store that allow customers to discover and download applications and digital content, such as books, music, video, games, and podcasts. In addition, the company offers various services, such as Apple Arcade, a game subscription service; Apple Fitness+, a personalized fitness service; Apple Music, which offers users a curated listening experience with on-demand radio stations; Apple News+, a subscription news and magazine service; Apple TV+, which offers exclusive original content; Apple Card, a co-branded credit card; and Apple Pay, a cashless payment service, as well as licenses its intellectual property. The company serves consumers, and small and mid-sized businesses; and the education, enterprise, and government markets. It distributes third-party applications for its products through the App Store. The company also sells its products through its retail and online stores, and direct sales force; and third-party cellular network carriers, wholesalers, retailers, and resellers. Apple Inc. was incorporated in 1977 and is headquartered in Cupertino, California.',\n",
       " 'fullTimeEmployees': 164000,\n",
       " 'companyOfficers': [{'maxAge': 1,\n",
       "   'name': 'Mr. Timothy D. Cook',\n",
       "   'age': 61,\n",
       "   'title': 'CEO & Director',\n",
       "   'yearBorn': 1961,\n",
       "   'fiscalYear': 2022,\n",
       "   'totalPay': 16425933,\n",
       "   'exercisedValue': 0,\n",
       "   'unexercisedValue': 0},\n",
       "  {'maxAge': 1,\n",
       "   'name': 'Mr. Luca  Maestri',\n",
       "   'age': 59,\n",
       "   'title': 'CFO & Sr. VP',\n",
       "   'yearBorn': 1963,\n",
       "   'fiscalYear': 2022,\n",
       "   'totalPay': 5019783,\n",
       "   'exercisedValue': 0,\n",
       "   'unexercisedValue': 0},\n",
       "  {'maxAge': 1,\n",
       "   'name': 'Mr. Jeffrey E. Williams',\n",
       "   'age': 58,\n",
       "   'title': 'Chief Operating Officer',\n",
       "   'yearBorn': 1964,\n",
       "   'fiscalYear': 2022,\n",
       "   'totalPay': 5018337,\n",
       "   'exercisedValue': 0,\n",
       "   'unexercisedValue': 0},\n",
       "  {'maxAge': 1,\n",
       "   'name': 'Ms. Katherine L. Adams',\n",
       "   'age': 58,\n",
       "   'title': 'Sr. VP, Gen. Counsel & Sec.',\n",
       "   'yearBorn': 1964,\n",
       "   'fiscalYear': 2022,\n",
       "   'totalPay': 5015208,\n",
       "   'exercisedValue': 0,\n",
       "   'unexercisedValue': 0},\n",
       "  {'maxAge': 1,\n",
       "   'name': \"Ms. Deirdre  O'Brien\",\n",
       "   'age': 55,\n",
       "   'title': 'Sr. VP of Retail',\n",
       "   'yearBorn': 1967,\n",
       "   'fiscalYear': 2022,\n",
       "   'totalPay': 5019783,\n",
       "   'exercisedValue': 0,\n",
       "   'unexercisedValue': 0},\n",
       "  {'maxAge': 1,\n",
       "   'name': 'Mr. Chris  Kondo',\n",
       "   'title': 'Sr. Director of Corp. Accounting',\n",
       "   'exercisedValue': 0,\n",
       "   'unexercisedValue': 0},\n",
       "  {'maxAge': 1,\n",
       "   'name': 'Mr. James  Wilson',\n",
       "   'title': 'Chief Technology Officer',\n",
       "   'exercisedValue': 0,\n",
       "   'unexercisedValue': 0},\n",
       "  {'maxAge': 1,\n",
       "   'name': 'Ms. Mary  Demby',\n",
       "   'title': 'Chief Information Officer',\n",
       "   'exercisedValue': 0,\n",
       "   'unexercisedValue': 0},\n",
       "  {'maxAge': 1,\n",
       "   'name': 'Ms. Nancy  Paxton',\n",
       "   'title': 'Sr. Director of Investor Relations & Treasury',\n",
       "   'exercisedValue': 0,\n",
       "   'unexercisedValue': 0},\n",
       "  {'maxAge': 1,\n",
       "   'name': 'Mr. Greg  Joswiak',\n",
       "   'title': 'Sr. VP of Worldwide Marketing',\n",
       "   'exercisedValue': 0,\n",
       "   'unexercisedValue': 0}],\n",
       " 'auditRisk': 4,\n",
       " 'boardRisk': 1,\n",
       " 'compensationRisk': 5,\n",
       " 'shareHolderRightsRisk': 1,\n",
       " 'overallRisk': 1,\n",
       " 'governanceEpochDate': 1682899200,\n",
       " 'compensationAsOfEpochDate': 1672444800,\n",
       " 'maxAge': 86400,\n",
       " 'priceHint': 2,\n",
       " 'previousClose': 173.555,\n",
       " 'open': 173.85,\n",
       " 'dayLow': 172.172,\n",
       " 'dayHigh': 174.025,\n",
       " 'regularMarketPreviousClose': 173.555,\n",
       " 'regularMarketOpen': 173.85,\n",
       " 'regularMarketDayLow': 172.172,\n",
       " 'regularMarketDayHigh': 174.025,\n",
       " 'dividendRate': 0.96,\n",
       " 'dividendYield': 0.0056,\n",
       " 'exDividendDate': 1683849600,\n",
       " 'payoutRatio': 0.1559,\n",
       " 'fiveYearAvgDividendYield': 0.92,\n",
       " 'beta': 1.296622,\n",
       " 'trailingPE': 29.218489,\n",
       " 'forwardPE': 26.541985,\n",
       " 'volume': 25298264,\n",
       " 'regularMarketVolume': 25298264,\n",
       " 'averageVolume': 59534513,\n",
       " 'averageVolume10days': 63566030,\n",
       " 'averageDailyVolume10Day': 63566030,\n",
       " 'bid': 173.7,\n",
       " 'ask': 173.72,\n",
       " 'bidSize': 1400,\n",
       " 'askSize': 900,\n",
       " 'marketCap': 2734434549760,\n",
       " 'fiftyTwoWeekLow': 124.17,\n",
       " 'fiftyTwoWeekHigh': 176.15,\n",
       " 'priceToSalesTrailing12Months': 7.100675,\n",
       " 'fiftyDayAverage': 161.2766,\n",
       " 'twoHundredDayAverage': 151.6544,\n",
       " 'trailingAnnualDividendRate': 0.92,\n",
       " 'trailingAnnualDividendYield': 0.0053009135,\n",
       " 'currency': 'USD',\n",
       " 'enterpriseValue': 2783537790976,\n",
       " 'profitMargins': 0.24493,\n",
       " 'floatShares': 15712029576,\n",
       " 'sharesOutstanding': 15728700416,\n",
       " 'sharesShort': 124657645,\n",
       " 'sharesShortPriorMonth': 111566048,\n",
       " 'sharesShortPreviousMonthDate': 1680220800,\n",
       " 'dateShortInterest': 1682640000,\n",
       " 'sharesPercentSharesOut': 0.007900001,\n",
       " 'heldPercentInsiders': 0.00071000005,\n",
       " 'heldPercentInstitutions': 0.61232,\n",
       " 'shortRatio': 2.42,\n",
       " 'shortPercentOfFloat': 0.007900001,\n",
       " 'impliedSharesOutstanding': 15728700416,\n",
       " 'bookValue': 3.953,\n",
       " 'priceToBook': 43.979256,\n",
       " 'lastFiscalYearEnd': 1663977600,\n",
       " 'nextFiscalYearEnd': 1695513600,\n",
       " 'mostRecentQuarter': 1680307200,\n",
       " 'earningsQuarterlyGrowth': -0.034,\n",
       " 'netIncomeToCommon': 94321000448,\n",
       " 'trailingEps': 5.95,\n",
       " 'forwardEps': 6.55,\n",
       " 'pegRatio': 3.62,\n",
       " 'lastSplitFactor': '4:1',\n",
       " 'lastSplitDate': 1598832000,\n",
       " 'enterpriseToRevenue': 7.228,\n",
       " 'enterpriseToEbitda': 22.486,\n",
       " '52WeekChange': 0.21745229,\n",
       " 'SandP52WeekChange': 0.052813172,\n",
       " 'lastDividendValue': 0.23,\n",
       " 'lastDividendDate': 1675987200,\n",
       " 'exchange': 'NMS',\n",
       " 'quoteType': 'EQUITY',\n",
       " 'symbol': 'AAPL',\n",
       " 'underlyingSymbol': 'AAPL',\n",
       " 'shortName': 'Apple Inc.',\n",
       " 'longName': 'Apple Inc.',\n",
       " 'firstTradeDateEpochUtc': 345479400,\n",
       " 'timeZoneFullName': 'America/New_York',\n",
       " 'timeZoneShortName': 'EDT',\n",
       " 'uuid': '8b10e4ae-9eeb-3684-921a-9ab27e4d87aa',\n",
       " 'messageBoardId': 'finmb_24937',\n",
       " 'gmtOffSetMilliseconds': -14400000,\n",
       " 'currentPrice': 173.85,\n",
       " 'targetHighPrice': 209.0,\n",
       " 'targetLowPrice': 118.0,\n",
       " 'targetMeanPrice': 178.46,\n",
       " 'targetMedianPrice': 180.0,\n",
       " 'recommendationMean': 2.0,\n",
       " 'recommendationKey': 'buy',\n",
       " 'numberOfAnalystOpinions': 38,\n",
       " 'totalCash': 55872000000,\n",
       " 'totalCashPerShare': 3.552,\n",
       " 'ebitda': 123788001280,\n",
       " 'totalDebt': 109614997504,\n",
       " 'quickRatio': 0.764,\n",
       " 'currentRatio': 0.94,\n",
       " 'totalRevenue': 385095008256,\n",
       " 'debtToEquity': 176.349,\n",
       " 'revenuePerShare': 24.116,\n",
       " 'returnOnAssets': 0.20559,\n",
       " 'returnOnEquity': 1.4560499,\n",
       " 'grossProfits': 170782000000,\n",
       " 'freeCashflow': 83796623360,\n",
       " 'operatingCashflow': 109583998976,\n",
       " 'earningsGrowth': 0.0,\n",
       " 'revenueGrowth': -0.025,\n",
       " 'grossMargins': 0.43181,\n",
       " 'ebitdaMargins': 0.32145,\n",
       " 'operatingMargins': 0.29163,\n",
       " 'financialCurrency': 'USD',\n",
       " 'trailingPegRatio': 2.8478}"
      ]
     },
     "execution_count": 4,
     "metadata": {},
     "output_type": "execute_result"
    }
   ],
   "source": [
    "# extracting info of Apple as a python dictionary\n",
    "\n",
    "apple_info = apple.info\n",
    "apple_info"
   ]
  },
  {
   "cell_type": "code",
   "execution_count": 5,
   "id": "ce7c0690",
   "metadata": {},
   "outputs": [
    {
     "name": "stdout",
     "output_type": "stream",
     "text": [
      "385,095,008,256\n"
     ]
    }
   ],
   "source": [
    "# Total revenue of Apple \n",
    "print(\"{:,}\".format(apple_info[\"totalRevenue\"]))\n"
   ]
  },
  {
   "cell_type": "code",
   "execution_count": 6,
   "id": "ad63421b",
   "metadata": {},
   "outputs": [
    {
     "data": {
      "text/plain": [
       "pandas.core.frame.DataFrame"
      ]
     },
     "execution_count": 6,
     "metadata": {},
     "output_type": "execute_result"
    }
   ],
   "source": [
    "# Extracting share price data\n",
    "apple_share_history = apple.history(period=\"max\")\n",
    "type(apple_share_history)"
   ]
  },
  {
   "cell_type": "code",
   "execution_count": 7,
   "id": "299efadc",
   "metadata": {},
   "outputs": [
    {
     "data": {
      "text/html": [
       "<div>\n",
       "<style scoped>\n",
       "    .dataframe tbody tr th:only-of-type {\n",
       "        vertical-align: middle;\n",
       "    }\n",
       "\n",
       "    .dataframe tbody tr th {\n",
       "        vertical-align: top;\n",
       "    }\n",
       "\n",
       "    .dataframe thead th {\n",
       "        text-align: right;\n",
       "    }\n",
       "</style>\n",
       "<table border=\"1\" class=\"dataframe\">\n",
       "  <thead>\n",
       "    <tr style=\"text-align: right;\">\n",
       "      <th></th>\n",
       "      <th>Open</th>\n",
       "      <th>High</th>\n",
       "      <th>Low</th>\n",
       "      <th>Close</th>\n",
       "      <th>Volume</th>\n",
       "      <th>Dividends</th>\n",
       "      <th>Stock Splits</th>\n",
       "    </tr>\n",
       "    <tr>\n",
       "      <th>Date</th>\n",
       "      <th></th>\n",
       "      <th></th>\n",
       "      <th></th>\n",
       "      <th></th>\n",
       "      <th></th>\n",
       "      <th></th>\n",
       "      <th></th>\n",
       "    </tr>\n",
       "  </thead>\n",
       "  <tbody>\n",
       "    <tr>\n",
       "      <th>1980-12-12 00:00:00-05:00</th>\n",
       "      <td>0.099722</td>\n",
       "      <td>0.100155</td>\n",
       "      <td>0.099722</td>\n",
       "      <td>0.099722</td>\n",
       "      <td>469033600</td>\n",
       "      <td>0.0</td>\n",
       "      <td>0.0</td>\n",
       "    </tr>\n",
       "    <tr>\n",
       "      <th>1980-12-15 00:00:00-05:00</th>\n",
       "      <td>0.094953</td>\n",
       "      <td>0.094953</td>\n",
       "      <td>0.094519</td>\n",
       "      <td>0.094519</td>\n",
       "      <td>175884800</td>\n",
       "      <td>0.0</td>\n",
       "      <td>0.0</td>\n",
       "    </tr>\n",
       "    <tr>\n",
       "      <th>1980-12-16 00:00:00-05:00</th>\n",
       "      <td>0.088015</td>\n",
       "      <td>0.088015</td>\n",
       "      <td>0.087582</td>\n",
       "      <td>0.087582</td>\n",
       "      <td>105728000</td>\n",
       "      <td>0.0</td>\n",
       "      <td>0.0</td>\n",
       "    </tr>\n",
       "    <tr>\n",
       "      <th>1980-12-17 00:00:00-05:00</th>\n",
       "      <td>0.089749</td>\n",
       "      <td>0.090183</td>\n",
       "      <td>0.089749</td>\n",
       "      <td>0.089749</td>\n",
       "      <td>86441600</td>\n",
       "      <td>0.0</td>\n",
       "      <td>0.0</td>\n",
       "    </tr>\n",
       "    <tr>\n",
       "      <th>1980-12-18 00:00:00-05:00</th>\n",
       "      <td>0.092351</td>\n",
       "      <td>0.092785</td>\n",
       "      <td>0.092351</td>\n",
       "      <td>0.092351</td>\n",
       "      <td>73449600</td>\n",
       "      <td>0.0</td>\n",
       "      <td>0.0</td>\n",
       "    </tr>\n",
       "  </tbody>\n",
       "</table>\n",
       "</div>"
      ],
      "text/plain": [
       "                               Open      High       Low     Close     Volume  \\\n",
       "Date                                                                           \n",
       "1980-12-12 00:00:00-05:00  0.099722  0.100155  0.099722  0.099722  469033600   \n",
       "1980-12-15 00:00:00-05:00  0.094953  0.094953  0.094519  0.094519  175884800   \n",
       "1980-12-16 00:00:00-05:00  0.088015  0.088015  0.087582  0.087582  105728000   \n",
       "1980-12-17 00:00:00-05:00  0.089749  0.090183  0.089749  0.089749   86441600   \n",
       "1980-12-18 00:00:00-05:00  0.092351  0.092785  0.092351  0.092351   73449600   \n",
       "\n",
       "                           Dividends  Stock Splits  \n",
       "Date                                                \n",
       "1980-12-12 00:00:00-05:00        0.0           0.0  \n",
       "1980-12-15 00:00:00-05:00        0.0           0.0  \n",
       "1980-12-16 00:00:00-05:00        0.0           0.0  \n",
       "1980-12-17 00:00:00-05:00        0.0           0.0  \n",
       "1980-12-18 00:00:00-05:00        0.0           0.0  "
      ]
     },
     "execution_count": 7,
     "metadata": {},
     "output_type": "execute_result"
    }
   ],
   "source": [
    "apple_share_history.head()"
   ]
  },
  {
   "cell_type": "code",
   "execution_count": 8,
   "id": "25a64e2c",
   "metadata": {},
   "outputs": [
    {
     "data": {
      "text/html": [
       "<div>\n",
       "<style scoped>\n",
       "    .dataframe tbody tr th:only-of-type {\n",
       "        vertical-align: middle;\n",
       "    }\n",
       "\n",
       "    .dataframe tbody tr th {\n",
       "        vertical-align: top;\n",
       "    }\n",
       "\n",
       "    .dataframe thead th {\n",
       "        text-align: right;\n",
       "    }\n",
       "</style>\n",
       "<table border=\"1\" class=\"dataframe\">\n",
       "  <thead>\n",
       "    <tr style=\"text-align: right;\">\n",
       "      <th></th>\n",
       "      <th>Date</th>\n",
       "      <th>Open</th>\n",
       "      <th>High</th>\n",
       "      <th>Low</th>\n",
       "      <th>Close</th>\n",
       "      <th>Volume</th>\n",
       "      <th>Dividends</th>\n",
       "      <th>Stock Splits</th>\n",
       "    </tr>\n",
       "  </thead>\n",
       "  <tbody>\n",
       "    <tr>\n",
       "      <th>0</th>\n",
       "      <td>1980-12-12 00:00:00-05:00</td>\n",
       "      <td>0.099722</td>\n",
       "      <td>0.100155</td>\n",
       "      <td>0.099722</td>\n",
       "      <td>0.099722</td>\n",
       "      <td>469033600</td>\n",
       "      <td>0.0</td>\n",
       "      <td>0.0</td>\n",
       "    </tr>\n",
       "    <tr>\n",
       "      <th>1</th>\n",
       "      <td>1980-12-15 00:00:00-05:00</td>\n",
       "      <td>0.094953</td>\n",
       "      <td>0.094953</td>\n",
       "      <td>0.094519</td>\n",
       "      <td>0.094519</td>\n",
       "      <td>175884800</td>\n",
       "      <td>0.0</td>\n",
       "      <td>0.0</td>\n",
       "    </tr>\n",
       "    <tr>\n",
       "      <th>2</th>\n",
       "      <td>1980-12-16 00:00:00-05:00</td>\n",
       "      <td>0.088015</td>\n",
       "      <td>0.088015</td>\n",
       "      <td>0.087582</td>\n",
       "      <td>0.087582</td>\n",
       "      <td>105728000</td>\n",
       "      <td>0.0</td>\n",
       "      <td>0.0</td>\n",
       "    </tr>\n",
       "    <tr>\n",
       "      <th>3</th>\n",
       "      <td>1980-12-17 00:00:00-05:00</td>\n",
       "      <td>0.089749</td>\n",
       "      <td>0.090183</td>\n",
       "      <td>0.089749</td>\n",
       "      <td>0.089749</td>\n",
       "      <td>86441600</td>\n",
       "      <td>0.0</td>\n",
       "      <td>0.0</td>\n",
       "    </tr>\n",
       "    <tr>\n",
       "      <th>4</th>\n",
       "      <td>1980-12-18 00:00:00-05:00</td>\n",
       "      <td>0.092351</td>\n",
       "      <td>0.092785</td>\n",
       "      <td>0.092351</td>\n",
       "      <td>0.092351</td>\n",
       "      <td>73449600</td>\n",
       "      <td>0.0</td>\n",
       "      <td>0.0</td>\n",
       "    </tr>\n",
       "  </tbody>\n",
       "</table>\n",
       "</div>"
      ],
      "text/plain": [
       "                       Date      Open      High       Low     Close  \\\n",
       "0 1980-12-12 00:00:00-05:00  0.099722  0.100155  0.099722  0.099722   \n",
       "1 1980-12-15 00:00:00-05:00  0.094953  0.094953  0.094519  0.094519   \n",
       "2 1980-12-16 00:00:00-05:00  0.088015  0.088015  0.087582  0.087582   \n",
       "3 1980-12-17 00:00:00-05:00  0.089749  0.090183  0.089749  0.089749   \n",
       "4 1980-12-18 00:00:00-05:00  0.092351  0.092785  0.092351  0.092351   \n",
       "\n",
       "      Volume  Dividends  Stock Splits  \n",
       "0  469033600        0.0           0.0  \n",
       "1  175884800        0.0           0.0  \n",
       "2  105728000        0.0           0.0  \n",
       "3   86441600        0.0           0.0  \n",
       "4   73449600        0.0           0.0  "
      ]
     },
     "execution_count": 8,
     "metadata": {},
     "output_type": "execute_result"
    }
   ],
   "source": [
    "apple_share_history.reset_index(inplace=True)\n",
    "apple_share_history.head()"
   ]
  },
  {
   "cell_type": "code",
   "execution_count": 9,
   "id": "d0724964",
   "metadata": {},
   "outputs": [
    {
     "data": {
      "text/plain": [
       "<Axes: xlabel='Date'>"
      ]
     },
     "execution_count": 9,
     "metadata": {},
     "output_type": "execute_result"
    },
    {
     "data": {
      "image/png": "[encoded data removed]",
      "text/plain": [
       "<Figure size 640x480 with 1 Axes>"
      ]
     },
     "metadata": {},
     "output_type": "display_data"
    }
   ],
   "source": [
    "apple_share_history.plot(x=\"Date\", y=\"Open\")"
   ]
  },
  {
   "cell_type": "code",
   "execution_count": 10,
   "id": "9e08e5b0",
   "metadata": {},
   "outputs": [
    {
     "data": {
      "text/plain": [
       "<Axes: xlabel='Date'>"
      ]
     },
     "execution_count": 10,
     "metadata": {},
     "output_type": "execute_result"
    },
    {
     "data": {
      "image/png": "[encoded data removed]",
      "text/plain": [
       "<Figure size 640x480 with 1 Axes>"
      ]
     },
     "metadata": {},
     "output_type": "display_data"
    }
   ],
   "source": [
    "# Extracting 5 years share price data \n",
    "apple_share_5y = apple.history(period=\"5y\")\n",
    "apple_share_5y.reset_index(inplace=True)\n",
    "apple_share_5y.plot(x=\"Date\", y=\"Open\")"
   ]
  },
  {
   "cell_type": "code",
   "execution_count": 11,
   "id": "052fb8c5",
   "metadata": {},
   "outputs": [
    {
     "data": {
      "text/plain": [
       "Date\n",
       "2018-05-11 00:00:00-04:00    0.1825\n",
       "2018-08-10 00:00:00-04:00    0.1825\n",
       "2018-11-08 00:00:00-05:00    0.1825\n",
       "2019-02-08 00:00:00-05:00    0.1825\n",
       "2019-05-10 00:00:00-04:00    0.1925\n",
       "2019-08-09 00:00:00-04:00    0.1925\n",
       "2019-11-07 00:00:00-05:00    0.1925\n",
       "2020-02-07 00:00:00-05:00    0.1925\n",
       "2020-05-08 00:00:00-04:00    0.2050\n",
       "2020-08-07 00:00:00-04:00    0.2050\n",
       "2020-11-06 00:00:00-05:00    0.2050\n",
       "2021-02-05 00:00:00-05:00    0.2050\n",
       "2021-05-07 00:00:00-04:00    0.2200\n",
       "2021-08-06 00:00:00-04:00    0.2200\n",
       "2021-11-05 00:00:00-04:00    0.2200\n",
       "2022-02-04 00:00:00-05:00    0.2200\n",
       "2022-05-06 00:00:00-04:00    0.2300\n",
       "2022-08-05 00:00:00-04:00    0.2300\n",
       "2022-11-04 00:00:00-04:00    0.2300\n",
       "2023-02-10 00:00:00-05:00    0.2300\n",
       "Name: Dividends, dtype: float64"
      ]
     },
     "execution_count": 11,
     "metadata": {},
     "output_type": "execute_result"
    }
   ],
   "source": [
    "apple.dividends"
   ]
  },
  {
   "cell_type": "code",
   "execution_count": 12,
   "id": "764ad3cd",
   "metadata": {},
   "outputs": [
    {
     "data": {
      "text/plain": [
       "<Axes: xlabel='Date'>"
      ]
     },
     "execution_count": 12,
     "metadata": {},
     "output_type": "execute_result"
    },
    {
     "data": {
      "image/png": "[encoded data removed]",
      "text/plain": [
       "<Figure size 640x480 with 1 Axes>"
      ]
     },
     "metadata": {},
     "output_type": "display_data"
    }
   ],
   "source": [
    "# plotting per year divident by apple\n",
    "apple.dividends.plot()"
   ]
  }
 ],
 "metadata": {
  "kernelspec": {
   "display_name": "Python 3 (ipykernel)",
   "language": "python",
   "name": "python3"
  },
  "language_info": {
   "codemirror_mode": {
    "name": "ipython",
    "version": 3
   },
   "file_extension": ".py",
   "mimetype": "text/x-python",
   "name": "python",
   "nbconvert_exporter": "python",
   "pygments_lexer": "ipython3",
   "version": "3.10.9"
  }
 },
 "nbformat": 4,
 "nbformat_minor": 5
}
